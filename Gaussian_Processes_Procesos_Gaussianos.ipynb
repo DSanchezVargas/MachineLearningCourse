{
  "nbformat": 4,
  "nbformat_minor": 0,
  "metadata": {
    "colab": {
      "name": "Gaussian_Processes_Procesos_Gaussianos.ipynb",
      "version": "0.3.2",
      "provenance": [],
      "include_colab_link": true
    },
    "kernelspec": {
      "name": "python3",
      "display_name": "Python 3"
    }
  },
  "cells": [
    {
      "cell_type": "markdown",
      "metadata": {
        "id": "view-in-github",
        "colab_type": "text"
      },
      "source": [
        "<a href=\"https://colab.research.google.com/github/RFajardoMonzon/MachineLearningCourse/blob/master/Gaussian_Processes_Procesos_Gaussianos.ipynb\" target=\"_parent\"><img src=\"https://colab.research.google.com/assets/colab-badge.svg\" alt=\"Open In Colab\"/></a>"
      ]
    },
    {
      "cell_type": "code",
      "metadata": {
        "id": "SI5_dNkzG1Sd",
        "colab_type": "code",
        "colab": {}
      },
      "source": [
        "import numpy  as np\n",
        "import pandas as pd\n",
        "import matplotlib.pyplot as plt\n",
        "\n",
        "from sklearn import linear_model\n",
        "from numpy   import genfromtxt\n",
        "\n",
        "# COMIENZA AQUÍ TU CÓDIGO #\n",
        "\n",
        "from sklearn.metrics import mean_squared_error\n",
        "\n",
        "data = np.genfromtxt(\"insurance.csv\", delimiter=\",\", skip_header=1)\n",
        "year = data[:, 0:1]\n",
        "claims = data[:, 1:]"
      ],
      "execution_count": 0,
      "outputs": []
    },
    {
      "cell_type": "code",
      "metadata": {
        "id": "VvCy4bUkc5A8",
        "colab_type": "code",
        "colab": {}
      },
      "source": [
        "from sklearn.gaussian_process.kernels import DotProduct, WhiteKernel, RBF,RationalQuadratic, ExpSineSquared, ConstantKernel, Matern\n",
        "\n",
        "kernels = [1.0 * RBF(length_scale=1.0, length_scale_bounds=(1e-1, 10.0)),\n",
        "           1.0 * RationalQuadratic(length_scale=1.0, alpha=0.1),\n",
        "           1.0 * ExpSineSquared(length_scale=1.0, periodicity=3.0,\n",
        "                                length_scale_bounds=(0.1, 10.0),\n",
        "                                periodicity_bounds=(1.0, 10.0)),\n",
        "           ConstantKernel(0.1, (0.01, 10.0))\n",
        "               * (DotProduct(sigma_0=1.0, sigma_0_bounds=(0.1, 10.0)) ** 2),\n",
        "           1.0 * Matern(length_scale=1.0, length_scale_bounds=(1e-1, 10.0),\n",
        "                        nu=1.5)]"
      ],
      "execution_count": 0,
      "outputs": []
    },
    {
      "cell_type": "code",
      "metadata": {
        "id": "4e_uJWxBIwx6",
        "colab_type": "code",
        "colab": {}
      },
      "source": [
        "def showBasicPlot(keep=False):\n",
        "  plt.plot(year, claims, \"ro--\", alpha=0.5, label=\"Av_claims\", \n",
        "         markerfacecolor=\"blue\", markeredgecolor=\"blue\")\n",
        "  plt.legend(loc=\"upper right\")\n",
        "  if not keep:  \n",
        "    plt.grid(True)\n",
        "    plt.title(\"Partes medios por año\")\n",
        "    plt.show()"
      ],
      "execution_count": 0,
      "outputs": []
    },
    {
      "cell_type": "code",
      "metadata": {
        "id": "qC3tiDHoHQeF",
        "colab_type": "code",
        "outputId": "fc48b4df-9b44-43e8-8ebf-01e386cab45c",
        "colab": {
          "base_uri": "https://localhost:8080/",
          "height": 320
        }
      },
      "source": [
        "from sklearn.gaussian_process import GaussianProcessRegressor\n",
        "from sklearn.gaussian_process.kernels import DotProduct, WhiteKernel, RBF,RationalQuadratic, ExpSineSquared, ConstantKernel, Matern\n",
        "\n",
        "\n",
        "\n",
        "kernel = 1.0 * Matern(length_scale=1.0, length_scale_bounds=(1e-1, 10.0),\n",
        "                      nu=1.5)\n",
        "gpr = GaussianProcessRegressor(kernel=kernel).fit(year, claims)\n",
        "# gpr.score(year, claims)\n",
        "\n",
        "n_vars = 32\n",
        "all_year = np.arange(2, 18, 0.5).reshape(-1, 1)\n",
        "\n",
        "yp, std = gpr.predict(all_year, return_std=True) \n",
        "\n",
        "yp_array = gpr.sample_y(all_year, n_samples=5)\n",
        "\n",
        "# print(yp_array[:,0,:].shape)\n",
        "\n",
        "fill_year = all_year.reshape(n_vars)\n",
        "fill_yp = yp.reshape(n_vars)\n",
        "fill_std = std.reshape(n_vars)\n",
        "\n",
        "showBasicPlot(True)\n",
        "plt.plot(all_year, yp)\n",
        "plt.fill_between(fill_year, np.subtract(fill_yp, np.multiply(2, fill_std)), \n",
        "                 np.add(fill_yp, np.multiply(2, fill_std)), alpha=0.4,\n",
        "                 color=\"grey\")\n",
        "color = \"g\"\n",
        "# for sampled_yp, color in zip(yp_array.T, colors):\n",
        "plt.plot(all_year, yp_array[:,0,:], color=color, alpha=0.3)\n",
        "plt.show()"
      ],
      "execution_count": 0,
      "outputs": [
        {
          "output_type": "stream",
          "text": [
            "/usr/local/lib/python3.6/dist-packages/sklearn/gaussian_process/gpr.py:357: UserWarning: Predicted variances smaller than 0. Setting those variances to 0.\n",
            "  warnings.warn(\"Predicted variances smaller than 0. \"\n"
          ],
          "name": "stderr"
        },
        {
          "output_type": "stream",
          "text": [
            "(32, 5)\n"
          ],
          "name": "stdout"
        },
        {
          "output_type": "display_data",
          "data": {
            "image/png": "[encoded data removed]",
            "text/plain": [
              "<Figure size 432x288 with 1 Axes>"
            ]
          },
          "metadata": {
            "tags": []
          }
        }
      ]
    },
    {
      "cell_type": "code",
      "metadata": {
        "id": "0xGmdwdQH9Ah",
        "colab_type": "code",
        "outputId": "4fba3439-cc25-4a63-c2a0-740be5285350",
        "colab": {
          "base_uri": "https://localhost:8080/",
          "height": 34
        }
      },
      "source": [
        "X, y = make_friedman2(n_samples=500, noise=0, random_state=0)\n",
        "kernel = DotProduct() + WhiteKernel()\n",
        "gpr = GaussianProcessRegressor(kernel=kernel,\n",
        "        random_state=0).fit(X, y)\n",
        "gpr.score(X, y) \n",
        "\n",
        "gpr.predict(X[:2,:], return_std=True) "
      ],
      "execution_count": 0,
      "outputs": [
        {
          "output_type": "execute_result",
          "data": {
            "text/plain": [
              "(array([653.08792288, 592.16905327]), array([316.68016218, 316.65121679]))"
            ]
          },
          "metadata": {
            "tags": []
          },
          "execution_count": 4
        }
      ]
    },
    {
      "cell_type": "code",
      "metadata": {
        "id": "Lk4qvo6MM46P",
        "colab_type": "code",
        "outputId": "df3b9cbd-c1f5-4be9-a66e-057a4bbe8b49",
        "colab": {
          "base_uri": "https://localhost:8080/",
          "height": 187
        }
      },
      "source": [
        "print(np.subtract(yp, np.multiply(2, std.reshape(10, 1))))"
      ],
      "execution_count": 0,
      "outputs": [
        {
          "output_type": "stream",
          "text": [
            "[[24.45240246]\n",
            " [27.62470018]\n",
            " [30.9737973 ]\n",
            " [34.79610093]\n",
            " [39.59683047]\n",
            " [45.91848458]\n",
            " [54.1443366 ]\n",
            " [64.2829411 ]\n",
            " [75.69896124]\n",
            " [87.05257538]]\n"
          ],
          "name": "stdout"
        }
      ]
    },
    {
      "cell_type": "code",
      "metadata": {
        "id": "3Md1zRCWNMfo",
        "colab_type": "code",
        "outputId": "bb8f9532-0bfe-46c4-84f3-6c1ea93b8686",
        "colab": {
          "base_uri": "https://localhost:8080/",
          "height": 34
        }
      },
      "source": [
        "print(std.reshape(10, 1).shape)"
      ],
      "execution_count": 0,
      "outputs": [
        {
          "output_type": "stream",
          "text": [
            "(10, 1)\n"
          ],
          "name": "stdout"
        }
      ]
    }
  ]
}