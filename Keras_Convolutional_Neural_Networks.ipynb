{
  "nbformat": 4,
  "nbformat_minor": 0,
  "metadata": {
    "colab": {
      "name": "Keras Convolutional Neural Networks",
      "version": "0.3.2",
      "provenance": [],
      "collapsed_sections": [],
      "include_colab_link": true
    },
    "kernelspec": {
      "name": "python3",
      "display_name": "Python 3"
    },
    "accelerator": "GPU"
  },
  "cells": [
    {
      "cell_type": "markdown",
      "metadata": {
        "id": "view-in-github",
        "colab_type": "text"
      },
      "source": [
        "<a href=\"https://colab.research.google.com/github/RFajardoMonzon/MachineLearningCourse/blob/master/Keras_Convolutional_Neural_Networks.ipynb\" target=\"_parent\"><img src=\"https://colab.research.google.com/assets/colab-badge.svg\" alt=\"Open In Colab\"/></a>"
      ]
    },
    {
      "cell_type": "markdown",
      "metadata": {
        "id": "1AiATNn-i-Qi",
        "colab_type": "text"
      },
      "source": [
        "# Notebook 11 - Redes Neuronales Convolucionales.\n",
        "\n",
        "*   Recuerda que puedes consultar la documentación sobre una función escribiendo **?** justo después de la función: *Ejemplo: np.maximum?*\n",
        "*   Puedes ejecutar el contenido de una celda con el atajo de teclado **CTRL+ENTER**\n",
        "*   Utiliza **TAB** cada vez que quieras autocompletar una llamada a una función.\n",
        "*   Puedes ejecutar instrucciones de bash directamente desde el notebook usando **!** : *Ejemplo: !pip install tensorflow*\n",
        "*   Recuerda que Google es tu amigo, y saber buscar la información en las documentaciones de las librerías es muy importante.\n",
        "*   Una solución correcta no es la que funciona sino la que se entiende!\n",
        "*   No dudes en preguntar cualquier duda al profesor que lleva todo el día dando la turra."
      ]
    },
    {
      "cell_type": "markdown",
      "metadata": {
        "id": "ESaZnccukB3p",
        "colab_type": "text"
      },
      "source": [
        "## 1. Diseñando nuestra primera CNN\n",
        "\n",
        "Vaya turra estar trabajando siempre con el mismo dataset de números... ¿verdad? Pues venga, aquí vamos otra vez. Hoy rápidamente vamos a comprobar si nos aporta alguna mejora trabajar con una Red Neuronal Convolucional en cuestión de rendimiento sobre el dataset de MNIST, comparado con nuestra Red Neuronal Multicapa de ayer.\n",
        "\n",
        "---\n",
        "\n",
        "**Tu tarea:** Diseña, entrena y evalua, con Keras una *Red Neuronal Convolucional* con el dataset MNIST Aumentado generado en el ejercicio de ayer (ya se proporciona el código para aumentar los datos). Comprueba si esta arquitectura mejora el rendimiento obtenido en comparación con la *Red Neuronal Multicapa.* Para ello, obtén métricas del rendimiento de la red para tu ***test_set Aumentado*** con la red entrenada ***sin*** y ***con*** datos aumentados (mismo ejercicio de ayer). ¿Existen diferencias en los resultados del experimento?  Igualmente, compara el número de parámetros utilizados por ambas redes. ¿Cuál utiliza un menor número de parámetros? (recuerda la función ***model.summary()***).\n",
        "\n",
        "**Importante:** Recuerda cambiar el Entorno de ejecución en la pestaña *Entorno de ejecución* >  *Cambiar tipo de entorno de ejecución* el *Acelerador por Hardware* de ***None*** a ***GPU***, para que el rendimiento de entrenamiento sea superior."
      ]
    },
    {
      "cell_type": "code",
      "metadata": {
        "id": "VYV6UPR-7NAX",
        "colab_type": "code",
        "colab": {}
      },
      "source": [
        "!mkdir models"
      ],
      "execution_count": 0,
      "outputs": []
    },
    {
      "cell_type": "code",
      "metadata": {
        "id": "jFDIbRQMlHU2",
        "colab_type": "code",
        "outputId": "c633172a-89c1-44ef-89d8-2876ac03766c",
        "colab": {
          "base_uri": "https://localhost:8080/",
          "height": 68
        }
      },
      "source": [
        "import numpy as np\n",
        "import scipy as sc\n",
        "import sklearn as sk\n",
        "import pandas  as pd\n",
        "import seaborn as sb\n",
        "\n",
        "import matplotlib.pyplot as plt\n",
        "import numpy.random\n",
        "\n",
        "from scipy.ndimage import shift\n",
        "from scipy.ndimage import rotate\n",
        "from sklearn.model_selection import train_test_split\n",
        "\n",
        "from tensorflow.keras.utils  import to_categorical\n",
        "\n",
        "# Cargamos el dataset desde el archivo.\n",
        "mnist = pd.read_csv(\"./sample_data/mnist_train_small.csv\", header=None).as_matrix()\n",
        "\n",
        "# Guardamos las variables X e Y.\n",
        "X, Y = mnist[:, 1:], mnist[:, 0:1]\n",
        "\n",
        "# Normalizamos input y codificamos output con one-hot encoding.\n",
        "Xt = X / 255.0\n",
        "Yt = to_categorical(Y, 10)\n",
        "\n",
        "# Generamos train y test set.\n",
        "X_train, X_test, Y_train, Y_test = train_test_split(Xt, Yt, train_size=0.7)\n",
        "\n",
        "def traslate_imgs(X):\n",
        "  \n",
        "  # Matriz resultado.\n",
        "  trasl_X = np.zeros(X.shape)\n",
        "  \n",
        "  for ix, x in enumerate(X):\n",
        "    \n",
        "    # Convertimos a matriz el vector de píxeles.\n",
        "    rx = x.reshape(28, 28)\n",
        "    #r Seleccionamos cuánto vamos a cortar en X e Y.\n",
        "    shift_x = np.random.randint(14) - 7\n",
        "    shift_y = np.random.randint(14) - 7\n",
        "    # Guardamos la traslación de la imagen.\n",
        "    trasl_X[ix] = shift(x.reshape(28, 28), (shift_x, shift_y)).flatten()\n",
        "    \n",
        "  return trasl_X\n",
        "\n",
        "\n",
        "def rotate_imgs(X):\n",
        "  \n",
        "  # Matriz resultado.\n",
        "  rot_X = np.zeros(X.shape)\n",
        "  \n",
        "  for ix, x in enumerate(X):\n",
        "    \n",
        "    # Convertimos a matriz el vector de píxeles.\n",
        "    rx = x.reshape(28, 28)\n",
        "    # Seleccionamos el ángulo con el que rotar la imagen.\n",
        "    angle = np.random.randint(180) - 90\n",
        "    # Guardamos la traslación de la imagen.\n",
        "    rot_X[ix] = rotate(x.reshape(28, 28), angle, reshape=False, prefilter=False, order=1).flatten()\n",
        "    \n",
        "  return rot_X\n",
        "\n",
        "\n",
        "def noise_imgs(X, noise_level=0.5):\n",
        "  \n",
        "  # Matriz resultado.\n",
        "  nois_X = np.zeros(X.shape)\n",
        "  \n",
        "  for ix, x in enumerate(X):\n",
        "    \n",
        "    # Convertimos a matriz el vector de píxeles.\n",
        "    rx = x.reshape(28, 28)\n",
        "    # Seleccionamos el ángulo con el que rotar la imagen.\n",
        "    noise = (np.random.random(x.shape) * 2.0  - 1) * noise_level\n",
        "    # Guardamos la traslación de la imagen.\n",
        "    nois_X[ix] = np.clip(x + noise, 0.0, 1.0).flatten()\n",
        "    \n",
        "  return nois_X\n",
        "\n",
        "def augmentDataset(X, Y):\n",
        "\n",
        "  # Generamos train trasladada.\n",
        "  trasX = traslate_imgs(X)\n",
        "  # Generamos train rotada.\n",
        "  rotaX = rotate_imgs(X)\n",
        "  # Generamos train con ruido 50%.\n",
        "  no50X = noise_imgs(X, 0.5)\n",
        "  # Generamos train con ruido 25%.\n",
        "  no25X = noise_imgs(X, 0.25)\n",
        "\n",
        "  # Juntamos todos los sets.\n",
        "  augmX = np.vstack([X, \n",
        "                    trasX, \n",
        "                    rotaX, \n",
        "                    no50X, \n",
        "                    no25X])\n",
        "\n",
        "  # E incrementamos el vector Y por 5 veces.\n",
        "  augmY = np.tile(Y, (5,1))\n",
        "  \n",
        "  return augmX.reshape(augmX.shape[0], 28, 28, 1), augmY\n",
        "\n",
        "augmX_train, augmY_train = augmentDataset(X_train, Y_train)\n",
        "augmX_test,  augmY_test  = augmentDataset(X_test, Y_test)\n",
        "\n",
        "print(X_train.shape, augmX_train.shape)\n",
        "print(X_test.shape,  augmX_test.shape)"
      ],
      "execution_count": 0,
      "outputs": [
        {
          "output_type": "stream",
          "text": [
            "/usr/local/lib/python3.6/dist-packages/ipykernel_launcher.py:17: FutureWarning: Method .as_matrix will be removed in a future version. Use .values instead.\n"
          ],
          "name": "stderr"
        },
        {
          "output_type": "stream",
          "text": [
            "(14000, 784) (70000, 28, 28, 1)\n",
            "(6000, 784) (30000, 28, 28, 1)\n"
          ],
          "name": "stdout"
        }
      ]
    },
    {
      "cell_type": "code",
      "metadata": {
        "colab_type": "code",
        "outputId": "7e40dbb9-dcfe-4cc4-d314-e233ba7ed96a",
        "id": "1Gpbu8_5He6f",
        "colab": {
          "base_uri": "https://localhost:8080/",
          "height": 184
        }
      },
      "source": [
        "# Visualizamos los datos generados.\n",
        "idx = 100\n",
        "\n",
        "fig, axs = plt.subplots(1,5,figsize=(12,12))\n",
        "\n",
        "axs[0].matshow(augmX_train[idx + len(X_train) * 0,:].reshape(28, 28))\n",
        "axs[1].matshow(augmX_train[idx + len(X_train) * 1,:].reshape(28, 28))\n",
        "axs[2].matshow(augmX_train[idx + len(X_train) * 2,:].reshape(28, 28))\n",
        "axs[3].matshow(augmX_train[idx + len(X_train) * 3,:].reshape(28, 28))\n",
        "axs[4].matshow(augmX_train[idx + len(X_train) * 4,:].reshape(28, 28))"
      ],
      "execution_count": 0,
      "outputs": [
        {
          "output_type": "execute_result",
          "data": {
            "text/plain": [
              "<matplotlib.image.AxesImage at 0x7f0688e8db38>"
            ]
          },
          "metadata": {
            "tags": []
          },
          "execution_count": 33
        },
        {
          "output_type": "display_data",
          "data": {
            "image/png": "[encoded data removed]",
            "text/plain": [
              "<Figure size 864x864 with 5 Axes>"
            ]
          },
          "metadata": {
            "tags": []
          }
        }
      ]
    },
    {
      "cell_type": "code",
      "metadata": {
        "id": "iQp7LNDVlheG",
        "colab_type": "code",
        "outputId": "e0291ad2-4cb1-4d72-cdfe-6a0d8b5d6b62",
        "colab": {
          "base_uri": "https://localhost:8080/",
          "height": 1071
        }
      },
      "source": [
        "## Importamos Keras API\n",
        "import tensorflow as tf\n",
        "\n",
        "from tensorflow.python.keras.models import Sequential\n",
        "from tensorflow.python.keras.layers import InputLayer, Input\n",
        "from tensorflow.python.keras.layers import Reshape, MaxPooling2D\n",
        "from tensorflow.python.keras.layers import Conv2D, Dense, Flatten, ReLU, BatchNormalization\n",
        "\n",
        "### COMIENZA TU CÓDIGO AQUÍ ###\n",
        "\n",
        "X_train_reshaped = X_train.reshape(X_train.shape[0], 28, 28, 1)\n",
        "X_test_reshaped = X_test.reshape(X_test.shape[0], 28, 28, 1)\n",
        "\n",
        "print(X_train_reshaped.shape)\n",
        "\n",
        "model = Sequential()\n",
        "\n",
        "model.add(Conv2D(32, (3, 3), padding=\"same\", activation=\"relu\", input_shape=(28, 28, 1)))\n",
        "model.add(MaxPooling2D(pool_size=(2, 2)))\n",
        "\n",
        "model.add(Conv2D(64, (3, 3), padding=\"same\", activation=\"relu\"))\n",
        "model.add(MaxPooling2D(pool_size=(2, 2)))\n",
        "\n",
        "model.add(Conv2D(128, (3, 3), padding=\"same\", activation=\"relu\"))\n",
        "model.add(MaxPooling2D(pool_size=(2, 2)))\n",
        "\n",
        "model.add(Flatten())\n",
        "\n",
        "model.add(Dense(128, activation=\"relu\"))\n",
        "model.add(Dense(10, activation=\"softmax\"))\n",
        "\n",
        "model.compile(optimizer=\"adam\", loss=\"categorical_crossentropy\", metrics=[\"acc\"])\n",
        "\n",
        "model.fit(X_train_reshaped, Y_train, validation_data=(augmX_test, augmY_test),\n",
        "          batch_size=20, epochs=30)\n",
        "\n",
        "model.save(\"models/normal_data.h5\")\n"
      ],
      "execution_count": 0,
      "outputs": [
        {
          "output_type": "stream",
          "text": [
            "(14000, 28, 28, 1)\n",
            "Train on 14000 samples, validate on 30000 samples\n",
            "Epoch 1/30\n",
            "14000/14000 [==============================] - 6s 408us/sample - loss: 0.2656 - acc: 0.9139 - val_loss: 1.2278 - val_acc: 0.7410\n",
            "Epoch 2/30\n",
            "14000/14000 [==============================] - 5s 388us/sample - loss: 0.0731 - acc: 0.9769 - val_loss: 1.1123 - val_acc: 0.7788\n",
            "Epoch 3/30\n",
            "14000/14000 [==============================] - 6s 412us/sample - loss: 0.0429 - acc: 0.9859 - val_loss: 1.2583 - val_acc: 0.7806\n",
            "Epoch 4/30\n",
            "14000/14000 [==============================] - 6s 443us/sample - loss: 0.0334 - acc: 0.9885 - val_loss: 1.1593 - val_acc: 0.7704\n",
            "Epoch 5/30\n",
            "14000/14000 [==============================] - 5s 392us/sample - loss: 0.0252 - acc: 0.9915 - val_loss: 1.3403 - val_acc: 0.7793\n",
            "Epoch 6/30\n",
            "14000/14000 [==============================] - 5s 388us/sample - loss: 0.0227 - acc: 0.9929 - val_loss: 1.4191 - val_acc: 0.7967\n",
            "Epoch 7/30\n",
            "14000/14000 [==============================] - 5s 386us/sample - loss: 0.0192 - acc: 0.9947 - val_loss: 1.2903 - val_acc: 0.7937\n",
            "Epoch 8/30\n",
            "14000/14000 [==============================] - 5s 388us/sample - loss: 0.0163 - acc: 0.9943 - val_loss: 1.4910 - val_acc: 0.7963\n",
            "Epoch 9/30\n",
            "14000/14000 [==============================] - 5s 388us/sample - loss: 0.0120 - acc: 0.9954 - val_loss: 1.6035 - val_acc: 0.7771\n",
            "Epoch 10/30\n",
            "14000/14000 [==============================] - 5s 385us/sample - loss: 0.0165 - acc: 0.9937 - val_loss: 1.3584 - val_acc: 0.7992\n",
            "Epoch 11/30\n",
            "14000/14000 [==============================] - 5s 390us/sample - loss: 0.0109 - acc: 0.9961 - val_loss: 1.5254 - val_acc: 0.7859\n",
            "Epoch 12/30\n",
            "14000/14000 [==============================] - 5s 386us/sample - loss: 0.0120 - acc: 0.9962 - val_loss: 1.6136 - val_acc: 0.7778\n",
            "Epoch 13/30\n",
            "14000/14000 [==============================] - 5s 388us/sample - loss: 0.0056 - acc: 0.9982 - val_loss: 1.5682 - val_acc: 0.8041\n",
            "Epoch 14/30\n",
            "14000/14000 [==============================] - 5s 385us/sample - loss: 0.0025 - acc: 0.9992 - val_loss: 1.7677 - val_acc: 0.7917\n",
            "Epoch 15/30\n",
            "14000/14000 [==============================] - 5s 388us/sample - loss: 0.0155 - acc: 0.9949 - val_loss: 1.5173 - val_acc: 0.7952\n",
            "Epoch 16/30\n",
            "14000/14000 [==============================] - 5s 387us/sample - loss: 0.0115 - acc: 0.9967 - val_loss: 1.3943 - val_acc: 0.7959\n",
            "Epoch 17/30\n",
            "14000/14000 [==============================] - 5s 388us/sample - loss: 0.0060 - acc: 0.9979 - val_loss: 1.5490 - val_acc: 0.8006\n",
            "Epoch 18/30\n",
            "14000/14000 [==============================] - 6s 439us/sample - loss: 0.0105 - acc: 0.9970 - val_loss: 1.4748 - val_acc: 0.7972\n",
            "Epoch 19/30\n",
            "14000/14000 [==============================] - 6s 425us/sample - loss: 0.0040 - acc: 0.9984 - val_loss: 1.6675 - val_acc: 0.7978\n",
            "Epoch 20/30\n",
            "14000/14000 [==============================] - 5s 387us/sample - loss: 0.0035 - acc: 0.9988 - val_loss: 1.7786 - val_acc: 0.7906\n",
            "Epoch 21/30\n",
            "14000/14000 [==============================] - 5s 386us/sample - loss: 0.0118 - acc: 0.9969 - val_loss: 1.6376 - val_acc: 0.8032\n",
            "Epoch 22/30\n",
            "14000/14000 [==============================] - 5s 384us/sample - loss: 0.0029 - acc: 0.9991 - val_loss: 1.8106 - val_acc: 0.7988\n",
            "Epoch 23/30\n",
            "14000/14000 [==============================] - 5s 386us/sample - loss: 0.0116 - acc: 0.9971 - val_loss: 1.7691 - val_acc: 0.7993\n",
            "Epoch 24/30\n",
            "14000/14000 [==============================] - 5s 384us/sample - loss: 0.0056 - acc: 0.9981 - val_loss: 1.9405 - val_acc: 0.7984\n",
            "Epoch 25/30\n",
            "14000/14000 [==============================] - 5s 384us/sample - loss: 0.0101 - acc: 0.9969 - val_loss: 1.6191 - val_acc: 0.8044\n",
            "Epoch 26/30\n",
            "14000/14000 [==============================] - 5s 385us/sample - loss: 4.8258e-04 - acc: 0.9999 - val_loss: 1.8496 - val_acc: 0.8074\n",
            "Epoch 27/30\n",
            "14000/14000 [==============================] - 5s 385us/sample - loss: 0.0069 - acc: 0.9980 - val_loss: 2.2134 - val_acc: 0.7790\n",
            "Epoch 28/30\n",
            "14000/14000 [==============================] - 5s 386us/sample - loss: 0.0058 - acc: 0.9984 - val_loss: 2.0561 - val_acc: 0.7926\n",
            "Epoch 29/30\n",
            "14000/14000 [==============================] - 5s 386us/sample - loss: 0.0108 - acc: 0.9971 - val_loss: 1.7225 - val_acc: 0.8049\n",
            "Epoch 30/30\n",
            "14000/14000 [==============================] - 5s 384us/sample - loss: 2.2282e-04 - acc: 0.9999 - val_loss: 1.7641 - val_acc: 0.8078\n"
          ],
          "name": "stdout"
        }
      ]
    },
    {
      "cell_type": "code",
      "metadata": {
        "id": "s7GD8ndnCQkz",
        "colab_type": "code",
        "outputId": "0714684e-bed5-4f26-8f48-a90b5327cdd9",
        "colab": {
          "base_uri": "https://localhost:8080/",
          "height": 1054
        }
      },
      "source": [
        "model = Sequential()\n",
        "\n",
        "model.add(Conv2D(32, (3, 3), padding=\"same\", activation=\"relu\", input_shape=(28, 28, 1)))\n",
        "model.add(MaxPooling2D(pool_size=(2, 2)))\n",
        "\n",
        "model.add(Conv2D(64, (3, 3), padding=\"same\", activation=\"relu\"))\n",
        "model.add(MaxPooling2D(pool_size=(2, 2)))\n",
        "\n",
        "model.add(Conv2D(128, (3, 3), padding=\"same\", activation=\"relu\"))\n",
        "model.add(MaxPooling2D(pool_size=(2, 2)))\n",
        "\n",
        "model.add(Flatten())\n",
        "\n",
        "model.add(Dense(128, activation=\"relu\"))\n",
        "model.add(Dense(10, activation=\"softmax\"))\n",
        "\n",
        "model.compile(optimizer=\"adam\", loss=\"categorical_crossentropy\", metrics=[\"acc\"])\n",
        "\n",
        "model.fit(augmX_train, augmY_train, validation_data=(augmX_test, augmY_test),\n",
        "          batch_size=20, epochs=30)\n",
        "\n",
        "model.save(\"models/augm_data.h5\")"
      ],
      "execution_count": 0,
      "outputs": [
        {
          "output_type": "stream",
          "text": [
            "Train on 70000 samples, validate on 30000 samples\n",
            "Epoch 1/30\n",
            "70000/70000 [==============================] - 18s 260us/sample - loss: 0.2593 - acc: 0.9194 - val_loss: 0.1187 - val_acc: 0.9636\n",
            "Epoch 2/30\n",
            "70000/70000 [==============================] - 20s 281us/sample - loss: 0.0805 - acc: 0.9747 - val_loss: 0.0829 - val_acc: 0.9748\n",
            "Epoch 3/30\n",
            "70000/70000 [==============================] - 19s 277us/sample - loss: 0.0532 - acc: 0.9824 - val_loss: 0.0795 - val_acc: 0.9756\n",
            "Epoch 4/30\n",
            "70000/70000 [==============================] - 18s 255us/sample - loss: 0.0362 - acc: 0.9877 - val_loss: 0.1055 - val_acc: 0.9713\n",
            "Epoch 5/30\n",
            "70000/70000 [==============================] - 18s 255us/sample - loss: 0.0290 - acc: 0.9903 - val_loss: 0.1028 - val_acc: 0.9730\n",
            "Epoch 6/30\n",
            "70000/70000 [==============================] - 18s 255us/sample - loss: 0.0233 - acc: 0.9923 - val_loss: 0.1174 - val_acc: 0.9705\n",
            "Epoch 7/30\n",
            "70000/70000 [==============================] - 19s 270us/sample - loss: 0.0201 - acc: 0.9935 - val_loss: 0.0976 - val_acc: 0.9756\n",
            "Epoch 8/30\n",
            "70000/70000 [==============================] - 18s 258us/sample - loss: 0.0180 - acc: 0.9943 - val_loss: 0.1240 - val_acc: 0.9746\n",
            "Epoch 9/30\n",
            "70000/70000 [==============================] - 18s 254us/sample - loss: 0.0155 - acc: 0.9949 - val_loss: 0.1186 - val_acc: 0.9758\n",
            "Epoch 10/30\n",
            "70000/70000 [==============================] - 18s 254us/sample - loss: 0.0161 - acc: 0.9952 - val_loss: 0.1040 - val_acc: 0.9790\n",
            "Epoch 11/30\n",
            "70000/70000 [==============================] - 18s 253us/sample - loss: 0.0171 - acc: 0.9948 - val_loss: 0.1145 - val_acc: 0.9772\n",
            "Epoch 12/30\n",
            "70000/70000 [==============================] - 19s 274us/sample - loss: 0.0130 - acc: 0.9961 - val_loss: 0.1242 - val_acc: 0.9759\n",
            "Epoch 13/30\n",
            "70000/70000 [==============================] - 18s 254us/sample - loss: 0.0135 - acc: 0.9959 - val_loss: 0.1470 - val_acc: 0.9769\n",
            "Epoch 14/30\n",
            "70000/70000 [==============================] - 18s 253us/sample - loss: 0.0148 - acc: 0.9956 - val_loss: 0.1266 - val_acc: 0.9767\n",
            "Epoch 15/30\n",
            "70000/70000 [==============================] - 18s 253us/sample - loss: 0.0114 - acc: 0.9967 - val_loss: 0.1283 - val_acc: 0.9778\n",
            "Epoch 16/30\n",
            "70000/70000 [==============================] - 19s 272us/sample - loss: 0.0137 - acc: 0.9962 - val_loss: 0.1411 - val_acc: 0.9777\n",
            "Epoch 17/30\n",
            "70000/70000 [==============================] - 18s 254us/sample - loss: 0.0107 - acc: 0.9968 - val_loss: 0.1805 - val_acc: 0.9726\n",
            "Epoch 18/30\n",
            "70000/70000 [==============================] - 18s 254us/sample - loss: 0.0107 - acc: 0.9970 - val_loss: 0.1402 - val_acc: 0.9795\n",
            "Epoch 19/30\n",
            "70000/70000 [==============================] - 20s 280us/sample - loss: 0.0130 - acc: 0.9966 - val_loss: 0.1467 - val_acc: 0.9788\n",
            "Epoch 20/30\n",
            "70000/70000 [==============================] - 19s 274us/sample - loss: 0.0122 - acc: 0.9967 - val_loss: 0.1566 - val_acc: 0.9780\n",
            "Epoch 21/30\n",
            "70000/70000 [==============================] - 19s 267us/sample - loss: 0.0127 - acc: 0.9970 - val_loss: 0.1454 - val_acc: 0.9790\n",
            "Epoch 22/30\n",
            "70000/70000 [==============================] - 18s 254us/sample - loss: 0.0135 - acc: 0.9968 - val_loss: 0.1665 - val_acc: 0.9786\n",
            "Epoch 23/30\n",
            "70000/70000 [==============================] - 18s 254us/sample - loss: 0.0097 - acc: 0.9973 - val_loss: 0.1574 - val_acc: 0.9782\n",
            "Epoch 24/30\n",
            "70000/70000 [==============================] - 18s 255us/sample - loss: 0.0118 - acc: 0.9970 - val_loss: 0.1699 - val_acc: 0.9769\n",
            "Epoch 25/30\n",
            "70000/70000 [==============================] - 19s 274us/sample - loss: 0.0129 - acc: 0.9972 - val_loss: 0.2007 - val_acc: 0.9757\n",
            "Epoch 26/30\n",
            "70000/70000 [==============================] - 18s 254us/sample - loss: 0.0139 - acc: 0.9971 - val_loss: 0.1980 - val_acc: 0.9776\n",
            "Epoch 27/30\n",
            "70000/70000 [==============================] - 18s 254us/sample - loss: 0.0104 - acc: 0.9977 - val_loss: 0.1786 - val_acc: 0.9775\n",
            "Epoch 28/30\n",
            "70000/70000 [==============================] - 18s 253us/sample - loss: 0.0107 - acc: 0.9976 - val_loss: 0.2170 - val_acc: 0.9751\n",
            "Epoch 29/30\n",
            "70000/70000 [==============================] - 19s 266us/sample - loss: 0.0153 - acc: 0.9968 - val_loss: 0.1789 - val_acc: 0.9800\n",
            "Epoch 30/30\n",
            "70000/70000 [==============================] - 18s 261us/sample - loss: 0.0104 - acc: 0.9975 - val_loss: 0.1966 - val_acc: 0.9777\n"
          ],
          "name": "stdout"
        }
      ]
    },
    {
      "cell_type": "code",
      "metadata": {
        "id": "_dh0Is82PPCA",
        "colab_type": "code",
        "outputId": "1be3164f-c886-4ed9-9e9c-617519b6f43d",
        "colab": {
          "base_uri": "https://localhost:8080/",
          "height": 51
        }
      },
      "source": [
        "from tensorflow.keras.models import load_model\n",
        "model = load_model(\"models/normal_data.h5\")\n",
        "\n",
        "model.evaluate(augmX_test[:X_test.shape[0]*2], augmY_test[:Y_test.shape[0]*2])"
      ],
      "execution_count": 0,
      "outputs": [
        {
          "output_type": "stream",
          "text": [
            "20000/20000 [==============================] - 1s 69us/sample - loss: 2.6035 - acc: 0.7224\n"
          ],
          "name": "stdout"
        },
        {
          "output_type": "execute_result",
          "data": {
            "text/plain": [
              "[2.6035491574140424, 0.72235]"
            ]
          },
          "metadata": {
            "tags": []
          },
          "execution_count": 55
        }
      ]
    },
    {
      "cell_type": "markdown",
      "metadata": {
        "id": "aUGxsrOCo6cM",
        "colab_type": "text"
      },
      "source": [
        "## 2. (OPCIONAL) Clasificando imágenes reales (CIFAR100 - Dataset)\n",
        "\n",
        "---\n",
        "\n",
        "**Tu tarea:**  Una vez ya hemos aprendido a clasificar imágenes de MNIST con una Red Neuronal Convolucional (CNN), no será complicado generalizar nuestro problema a otros datasets más complejos. En este ejercicio probarás a diseñar, entrenar y evaluar a una CNN entrenada en el dataset CIFAR100, para 100 clases de objetos diferentes de imágenes a color (ten en cuenta esto para la definición de las dimensiones). Todo el código implementado ayer para aumentar el dataset, puede ser sustituido por unas pocas lineas de código que hagan uso de la función ***ImageDataGenerator(...)***. Prueba también a aumentar tu dataset haciendo uso de esta funcionalidad. *(En este caso la documentación la encontrarás en la web original de Keras y no en la de Tensorflow.)*"
      ]
    },
    {
      "cell_type": "code",
      "metadata": {
        "id": "gZEBjEVttkYT",
        "colab_type": "code",
        "outputId": "ea7d684c-dfa9-4fbb-c56a-148b5434f51c",
        "colab": {
          "base_uri": "https://localhost:8080/",
          "height": 68
        }
      },
      "source": [
        "import numpy as np\n",
        "import scipy as sc\n",
        "import sklearn as sk\n",
        "import pandas  as pd\n",
        "import seaborn as sb\n",
        "\n",
        "from tensorflow.keras.utils  import to_categorical\n",
        "\n",
        "import matplotlib.pyplot as plt\n",
        "import numpy.random\n",
        "\n",
        "from scipy.ndimage import shift\n",
        "from scipy.ndimage import rotate\n",
        "from sklearn.model_selection import train_test_split\n",
        "\n",
        "from keras.preprocessing.image import ImageDataGenerator\n",
        "from keras.datasets import cifar100\n",
        "\n",
        "(X_train_raw, Y_train_raw), (X_test_raw, Y_test_raw) = cifar100.load_data()\n",
        "\n",
        "Y_train = to_categorical(Y_train_raw, 100)\n",
        "Y_test = to_categorical(Y_test_raw, 100)\n",
        "\n",
        "X_train = X_train_raw / 255.\n",
        "X_test = X_test_raw / 255.\n",
        "\n",
        "# print(X_train.shape)\n",
        "\n",
        "\n",
        "\n",
        "# train_generator = generator.flow(X_train_reshaped, Y_train)\n",
        "# val_generator = generator.flow(X_test.reshape(X_test.shape[0], 28, 28, 1), Y_test)\n",
        "\n",
        "# print(X_test)\n",
        "# print(Y_test)\n",
        "\n"
      ],
      "execution_count": 0,
      "outputs": [
        {
          "output_type": "stream",
          "text": [
            "Using TensorFlow backend.\n"
          ],
          "name": "stderr"
        },
        {
          "output_type": "stream",
          "text": [
            "Downloading data from https://www.cs.toronto.edu/~kriz/cifar-100-python.tar.gz\n",
            "169009152/169001437 [==============================] - 53s 0us/step\n"
          ],
          "name": "stdout"
        }
      ]
    },
    {
      "cell_type": "code",
      "metadata": {
        "id": "tf7u7lwQlZ_m",
        "colab_type": "code",
        "colab": {}
      },
      "source": [
        "\n",
        "generator = ImageDataGenerator(rotation_range=90, width_shift_range=0.25,\n",
        "                               height_shift_range=0.25)\n",
        "\n",
        "generator.fit(X_train)\n",
        "\n",
        "train_generator = generator.flow(X_train, Y_train)\n",
        "val_generator = generator.flow(X_test, Y_test)"
      ],
      "execution_count": 0,
      "outputs": []
    },
    {
      "cell_type": "code",
      "metadata": {
        "id": "KKue1kvLIUKp",
        "colab_type": "code",
        "outputId": "8a7f8c4f-7fdc-4807-8380-f9b2394e0eb1",
        "colab": {
          "base_uri": "https://localhost:8080/",
          "height": 459
        }
      },
      "source": [
        "from tensorflow.keras.backend import clear_session\n",
        "from tensorflow.keras.layers import Activation, Dropout\n",
        "\n",
        "from tensorflow.keras.models import Sequential\n",
        "from tensorflow.keras.layers import InputLayer, Input\n",
        "from tensorflow.keras.layers import Reshape, MaxPooling2D\n",
        "from tensorflow.keras.layers import Conv2D, Dense, Flatten, ReLU, BatchNormalization\n",
        "from tensorflow.keras.optimizers import Adam\n",
        "\n",
        "clear_session()\n",
        "\n",
        "model = Sequential()\n",
        "\n",
        "# model.add(Conv2D(128, (3, 3), padding=\"same\", activation=\"relu\", input_shape=X_train.shape[1:]))\n",
        "# model.add(MaxPooling2D(pool_size=(2, 2)))\n",
        "\n",
        "# model.add(Conv2D(128, (3, 3), padding=\"same\", activation=\"relu\"))\n",
        "# model.add(MaxPooling2D(pool_size=(2, 2)))\n",
        "\n",
        "# model.add(Conv2D(256, (3, 3), padding=\"same\", activation=\"relu\"))\n",
        "# model.add(MaxPooling2D(pool_size=(2, 2)))\n",
        "\n",
        "# model.add(Conv2D(256, (3, 3), padding=\"same\", activation=\"relu\"))\n",
        "# model.add(MaxPooling2D(pool_size=(2, 2)))\n",
        "\n",
        "# model.add(Flatten())\n",
        "\n",
        "# model.add(Dense(1024, activation=\"relu\"))\n",
        "# model.add(Dense(100, activation=\"softmax\"))\n",
        "\n",
        "model.add(Conv2D(128, (3, 3), padding='same',\n",
        "    input_shape=X_train.shape[1:]))\n",
        "model.add(Activation('elu'))\n",
        "model.add(Conv2D(128, (3, 3)))\n",
        "model.add(Activation('elu'))\n",
        "model.add(MaxPooling2D(pool_size=(2, 2)))\n",
        "model.add(Dropout(0.1))\n",
        "\n",
        "model.add(Conv2D(256, (3, 3), padding='same'))\n",
        "model.add(Activation('elu'))\n",
        "model.add(Conv2D(256, (3, 3)))\n",
        "model.add(Activation('elu'))\n",
        "model.add(MaxPooling2D(pool_size=(2, 2)))\n",
        "model.add(Dropout(0.25))\n",
        "\n",
        "model.add(Conv2D(512, (3, 3), padding='same'))\n",
        "model.add(Activation('elu'))\n",
        "model.add(Conv2D(512, (3, 3)))\n",
        "model.add(Activation('elu'))\n",
        "model.add(MaxPooling2D(pool_size=(2, 2)))\n",
        "model.add(Dropout(0.5))\n",
        "\n",
        "model.add(Flatten())\n",
        "model.add(Dense(1024))\n",
        "model.add(Activation('elu'))\n",
        "model.add(Dropout(0.5))\n",
        "model.add(Dense(100))\n",
        "model.add(Activation('softmax'))\n",
        "\n",
        "model.compile(optimizer=\"adam\", loss=\"categorical_crossentropy\", metrics=[\"acc\"])\n",
        "\n",
        "model.fit_generator(train_generator, validation_data=val_generator, epochs=30)\n",
        "\n",
        "model.save(\"models/cifar100.h5\")"
      ],
      "execution_count": 0,
      "outputs": [
        {
          "output_type": "stream",
          "text": [
            "Epoch 1/30\n",
            "313/313 [==============================] - 5s 17ms/step - loss: 15.9572 - acc: 0.0100\n",
            "1563/1563 [==============================] - 45s 29ms/step - loss: 5.2851 - acc: 0.0299 - val_loss: 15.9572 - val_acc: 0.0100\n",
            "Epoch 2/30\n",
            " 272/1563 [====>.........................] - ETA: 31s - loss: 15.9533 - acc: 0.0102"
          ],
          "name": "stdout"
        },
        {
          "output_type": "error",
          "ename": "KeyboardInterrupt",
          "evalue": "ignored",
          "traceback": [
            "\u001b[0;31m---------------------------------------------------------------------------\u001b[0m",
            "\u001b[0;31mKeyboardInterrupt\u001b[0m                         Traceback (most recent call last)",
            "\u001b[0;32m<ipython-input-13-5d01e112a131>\u001b[0m in \u001b[0;36m<module>\u001b[0;34m()\u001b[0m\n\u001b[1;32m     60\u001b[0m \u001b[0mmodel\u001b[0m\u001b[0;34m.\u001b[0m\u001b[0mcompile\u001b[0m\u001b[0;34m(\u001b[0m\u001b[0moptimizer\u001b[0m\u001b[0;34m=\u001b[0m\u001b[0;34m\"adam\"\u001b[0m\u001b[0;34m,\u001b[0m \u001b[0mloss\u001b[0m\u001b[0;34m=\u001b[0m\u001b[0;34m\"categorical_crossentropy\"\u001b[0m\u001b[0;34m,\u001b[0m \u001b[0mmetrics\u001b[0m\u001b[0;34m=\u001b[0m\u001b[0;34m[\u001b[0m\u001b[0;34m\"acc\"\u001b[0m\u001b[0;34m]\u001b[0m\u001b[0;34m)\u001b[0m\u001b[0;34m\u001b[0m\u001b[0;34m\u001b[0m\u001b[0m\n\u001b[1;32m     61\u001b[0m \u001b[0;34m\u001b[0m\u001b[0m\n\u001b[0;32m---> 62\u001b[0;31m \u001b[0mmodel\u001b[0m\u001b[0;34m.\u001b[0m\u001b[0mfit_generator\u001b[0m\u001b[0;34m(\u001b[0m\u001b[0mtrain_generator\u001b[0m\u001b[0;34m,\u001b[0m \u001b[0mvalidation_data\u001b[0m\u001b[0;34m=\u001b[0m\u001b[0mval_generator\u001b[0m\u001b[0;34m,\u001b[0m \u001b[0mepochs\u001b[0m\u001b[0;34m=\u001b[0m\u001b[0;36m30\u001b[0m\u001b[0;34m)\u001b[0m\u001b[0;34m\u001b[0m\u001b[0;34m\u001b[0m\u001b[0m\n\u001b[0m\u001b[1;32m     63\u001b[0m \u001b[0;34m\u001b[0m\u001b[0m\n\u001b[1;32m     64\u001b[0m \u001b[0mmodel\u001b[0m\u001b[0;34m.\u001b[0m\u001b[0msave\u001b[0m\u001b[0;34m(\u001b[0m\u001b[0;34m\"models/cifar100.h5\"\u001b[0m\u001b[0;34m)\u001b[0m\u001b[0;34m\u001b[0m\u001b[0;34m\u001b[0m\u001b[0m\n",
            "\u001b[0;32m/usr/local/lib/python3.6/dist-packages/tensorflow/python/keras/engine/training.py\u001b[0m in \u001b[0;36mfit_generator\u001b[0;34m(self, generator, steps_per_epoch, epochs, verbose, callbacks, validation_data, validation_steps, class_weight, max_queue_size, workers, use_multiprocessing, shuffle, initial_epoch)\u001b[0m\n\u001b[1;32m   1424\u001b[0m         \u001b[0muse_multiprocessing\u001b[0m\u001b[0;34m=\u001b[0m\u001b[0muse_multiprocessing\u001b[0m\u001b[0;34m,\u001b[0m\u001b[0;34m\u001b[0m\u001b[0;34m\u001b[0m\u001b[0m\n\u001b[1;32m   1425\u001b[0m         \u001b[0mshuffle\u001b[0m\u001b[0;34m=\u001b[0m\u001b[0mshuffle\u001b[0m\u001b[0;34m,\u001b[0m\u001b[0;34m\u001b[0m\u001b[0;34m\u001b[0m\u001b[0m\n\u001b[0;32m-> 1426\u001b[0;31m         initial_epoch=initial_epoch)\n\u001b[0m\u001b[1;32m   1427\u001b[0m \u001b[0;34m\u001b[0m\u001b[0m\n\u001b[1;32m   1428\u001b[0m   def evaluate_generator(self,\n",
            "\u001b[0;32m/usr/local/lib/python3.6/dist-packages/tensorflow/python/keras/engine/training_generator.py\u001b[0m in \u001b[0;36mmodel_iteration\u001b[0;34m(model, data, steps_per_epoch, epochs, verbose, callbacks, validation_data, validation_steps, class_weight, max_queue_size, workers, use_multiprocessing, shuffle, initial_epoch, mode, batch_size, **kwargs)\u001b[0m\n\u001b[1;32m    189\u001b[0m       \u001b[0mprogbar\u001b[0m\u001b[0;34m.\u001b[0m\u001b[0mon_batch_begin\u001b[0m\u001b[0;34m(\u001b[0m\u001b[0mstep\u001b[0m\u001b[0;34m,\u001b[0m \u001b[0mbatch_logs\u001b[0m\u001b[0;34m)\u001b[0m\u001b[0;34m\u001b[0m\u001b[0;34m\u001b[0m\u001b[0m\n\u001b[1;32m    190\u001b[0m \u001b[0;34m\u001b[0m\u001b[0m\n\u001b[0;32m--> 191\u001b[0;31m       \u001b[0mbatch_outs\u001b[0m \u001b[0;34m=\u001b[0m \u001b[0mbatch_function\u001b[0m\u001b[0;34m(\u001b[0m\u001b[0;34m*\u001b[0m\u001b[0mbatch_data\u001b[0m\u001b[0;34m)\u001b[0m\u001b[0;34m\u001b[0m\u001b[0;34m\u001b[0m\u001b[0m\n\u001b[0m\u001b[1;32m    192\u001b[0m       \u001b[0;32mif\u001b[0m \u001b[0;32mnot\u001b[0m \u001b[0misinstance\u001b[0m\u001b[0;34m(\u001b[0m\u001b[0mbatch_outs\u001b[0m\u001b[0;34m,\u001b[0m \u001b[0mlist\u001b[0m\u001b[0;34m)\u001b[0m\u001b[0;34m:\u001b[0m\u001b[0;34m\u001b[0m\u001b[0;34m\u001b[0m\u001b[0m\n\u001b[1;32m    193\u001b[0m         \u001b[0mbatch_outs\u001b[0m \u001b[0;34m=\u001b[0m \u001b[0;34m[\u001b[0m\u001b[0mbatch_outs\u001b[0m\u001b[0;34m]\u001b[0m\u001b[0;34m\u001b[0m\u001b[0;34m\u001b[0m\u001b[0m\n",
            "\u001b[0;32m/usr/local/lib/python3.6/dist-packages/tensorflow/python/keras/engine/training.py\u001b[0m in \u001b[0;36mtrain_on_batch\u001b[0;34m(self, x, y, sample_weight, class_weight, reset_metrics)\u001b[0m\n\u001b[1;32m   1189\u001b[0m       \u001b[0;32melse\u001b[0m\u001b[0;34m:\u001b[0m\u001b[0;34m\u001b[0m\u001b[0;34m\u001b[0m\u001b[0m\n\u001b[1;32m   1190\u001b[0m         \u001b[0mself\u001b[0m\u001b[0;34m.\u001b[0m\u001b[0m_make_fit_function\u001b[0m\u001b[0;34m(\u001b[0m\u001b[0;34m)\u001b[0m\u001b[0;34m\u001b[0m\u001b[0;34m\u001b[0m\u001b[0m\n\u001b[0;32m-> 1191\u001b[0;31m         \u001b[0moutputs\u001b[0m \u001b[0;34m=\u001b[0m \u001b[0mself\u001b[0m\u001b[0;34m.\u001b[0m\u001b[0m_fit_function\u001b[0m\u001b[0;34m(\u001b[0m\u001b[0mins\u001b[0m\u001b[0;34m)\u001b[0m  \u001b[0;31m# pylint: disable=not-callable\u001b[0m\u001b[0;34m\u001b[0m\u001b[0;34m\u001b[0m\u001b[0m\n\u001b[0m\u001b[1;32m   1192\u001b[0m \u001b[0;34m\u001b[0m\u001b[0m\n\u001b[1;32m   1193\u001b[0m     \u001b[0;32mif\u001b[0m \u001b[0mreset_metrics\u001b[0m\u001b[0;34m:\u001b[0m\u001b[0;34m\u001b[0m\u001b[0;34m\u001b[0m\u001b[0m\n",
            "\u001b[0;32m/usr/local/lib/python3.6/dist-packages/tensorflow/python/keras/backend.py\u001b[0m in \u001b[0;36m__call__\u001b[0;34m(self, inputs)\u001b[0m\n\u001b[1;32m   3074\u001b[0m \u001b[0;34m\u001b[0m\u001b[0m\n\u001b[1;32m   3075\u001b[0m     fetched = self._callable_fn(*array_vals,\n\u001b[0;32m-> 3076\u001b[0;31m                                 run_metadata=self.run_metadata)\n\u001b[0m\u001b[1;32m   3077\u001b[0m     \u001b[0mself\u001b[0m\u001b[0;34m.\u001b[0m\u001b[0m_call_fetch_callbacks\u001b[0m\u001b[0;34m(\u001b[0m\u001b[0mfetched\u001b[0m\u001b[0;34m[\u001b[0m\u001b[0;34m-\u001b[0m\u001b[0mlen\u001b[0m\u001b[0;34m(\u001b[0m\u001b[0mself\u001b[0m\u001b[0;34m.\u001b[0m\u001b[0m_fetches\u001b[0m\u001b[0;34m)\u001b[0m\u001b[0;34m:\u001b[0m\u001b[0;34m]\u001b[0m\u001b[0;34m)\u001b[0m\u001b[0;34m\u001b[0m\u001b[0;34m\u001b[0m\u001b[0m\n\u001b[1;32m   3078\u001b[0m     return nest.pack_sequence_as(self._outputs_structure,\n",
            "\u001b[0;32m/usr/local/lib/python3.6/dist-packages/tensorflow/python/client/session.py\u001b[0m in \u001b[0;36m__call__\u001b[0;34m(self, *args, **kwargs)\u001b[0m\n\u001b[1;32m   1437\u001b[0m           ret = tf_session.TF_SessionRunCallable(\n\u001b[1;32m   1438\u001b[0m               \u001b[0mself\u001b[0m\u001b[0;34m.\u001b[0m\u001b[0m_session\u001b[0m\u001b[0;34m.\u001b[0m\u001b[0m_session\u001b[0m\u001b[0;34m,\u001b[0m \u001b[0mself\u001b[0m\u001b[0;34m.\u001b[0m\u001b[0m_handle\u001b[0m\u001b[0;34m,\u001b[0m \u001b[0margs\u001b[0m\u001b[0;34m,\u001b[0m \u001b[0mstatus\u001b[0m\u001b[0;34m,\u001b[0m\u001b[0;34m\u001b[0m\u001b[0;34m\u001b[0m\u001b[0m\n\u001b[0;32m-> 1439\u001b[0;31m               run_metadata_ptr)\n\u001b[0m\u001b[1;32m   1440\u001b[0m         \u001b[0;32mif\u001b[0m \u001b[0mrun_metadata\u001b[0m\u001b[0;34m:\u001b[0m\u001b[0;34m\u001b[0m\u001b[0;34m\u001b[0m\u001b[0m\n\u001b[1;32m   1441\u001b[0m           \u001b[0mproto_data\u001b[0m \u001b[0;34m=\u001b[0m \u001b[0mtf_session\u001b[0m\u001b[0;34m.\u001b[0m\u001b[0mTF_GetBuffer\u001b[0m\u001b[0;34m(\u001b[0m\u001b[0mrun_metadata_ptr\u001b[0m\u001b[0;34m)\u001b[0m\u001b[0;34m\u001b[0m\u001b[0;34m\u001b[0m\u001b[0m\n",
            "\u001b[0;31mKeyboardInterrupt\u001b[0m: "
          ]
        }
      ]
    }
  ]
}