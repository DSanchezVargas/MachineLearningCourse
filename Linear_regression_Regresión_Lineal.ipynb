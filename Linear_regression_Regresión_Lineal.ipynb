{
  "nbformat": 4,
  "nbformat_minor": 0,
  "metadata": {
    "colab": {
      "name": "Linear regression - Regresión Lineal",
      "provenance": [],
      "include_colab_link": true
    },
    "kernelspec": {
      "name": "python3",
      "display_name": "Python 3"
    }
  },
  "cells": [
    {
      "cell_type": "markdown",
      "metadata": {
        "id": "view-in-github",
        "colab_type": "text"
      },
      "source": [
        "<a href=\"https://colab.research.google.com/github/DSanchezVargas/MachineLearningCourse/blob/master/Linear_regression_Regresi%C3%B3n_Lineal.ipynb\" target=\"_parent\"><img src=\"https://colab.research.google.com/assets/colab-badge.svg\" alt=\"Open In Colab\"/></a>"
      ]
    },
    {
      "cell_type": "markdown",
      "metadata": {
        "id": "p5PAhkSzbkRi"
      },
      "source": [
        "# Notebook 2 - Regresión Lineal"
      ]
    },
    {
      "cell_type": "markdown",
      "metadata": {
        "id": "JqoR6No_c0SM"
      },
      "source": [
        "*   Recuerda que puedes consultar la documentación sobre una función escribiendo **?** justo después de la función: *Ejemplo: np.maximum?*\n",
        "*   Puedes ejecutar el contenido de una celda con el atajo de teclado **CTRL+ENTER**\n",
        "*   Utiliza **TAB** cada vez que quieras autocompletar una llamada a una función.\n",
        "*   Puedes ejecutar instrucciones de bash directamente desde el notebook usando **!** : *Ejemplo: !pip install tensorflow*\n",
        "*   Recuerda que Google es tu amigo, y saber buscar la información en las documentaciones de las librerías es muy importante.\n",
        "*   Una solución correcta no es la que funciona sino la que se entiende!\n",
        "*   No dudes en preguntar cualquier duda al profesor que lleva todo el día dando la turra."
      ]
    },
    {
      "cell_type": "code",
      "metadata": {
        "id": "g7pqJJrJd8v8"
      },
      "source": [
        "# Importamos la librería SKLearn, que trae bastantes funcionalidades de Machine\n",
        "# Learning. Esta librería también incluye algunos datasets muy conocidos como por\n",
        "# ejemplo el que vamos a utilizar hoy: El Boston Housing Dataset.\n",
        "import sklearn as skl\n",
        "\n",
        "# Importamos la función que nos carga los datos. OJO! Esta forma de cargar los\n",
        "# datos no es habitual. Lo hacemos así porque la librería nos proporciona este\n",
        "# dataset, que suele ser utilizado comunmente para pruebas. Sin embargo, lo\n",
        "# habitual sería cargar este dataset nosotros mismos.\n",
        "from sklearn.datasets import load_boston\n",
        "\n",
        "import numpy as np\n",
        "import scipy as sc\n",
        "import matplotlib.pyplot as plt"
      ],
      "execution_count": null,
      "outputs": []
    },
    {
      "cell_type": "code",
      "metadata": {
        "id": "cBF-24BkiruX",
        "outputId": "a3d0f638-02f7-436c-d318-9ef0f9e3f77e",
        "colab": {
          "base_uri": "https://localhost:8080/",
          "height": 904
        }
      },
      "source": [
        "# Los datos cargados desde la librería Sklearn contienen una descripción del\n",
        "# dataset que estamos cargando, almacenado en el atributo DESCR.\n",
        "\n",
        "boston_dataset = load_boston()\n",
        "\n",
        "print(boston_dataset.DESCR)\n",
        "\n",
        "X = boston_dataset.data\n",
        "Y = boston_dataset.target\n",
        "\n",
        "# Guardamos información de las dimensiones de nuestro dataset. Recuerda:\n",
        "# n = número de ejemplos que tenemos de nuestros datos y\n",
        "# p = número de características que tenemos de cada datos.\n",
        "\n",
        "n, p = X.shape\n",
        "n, p\n",
        "rm = X[:, 5]"
      ],
      "execution_count": null,
      "outputs": [
        {
          "output_type": "stream",
          "text": [
            ".. _boston_dataset:\n",
            "\n",
            "Boston house prices dataset\n",
            "---------------------------\n",
            "\n",
            "**Data Set Characteristics:**  \n",
            "\n",
            "    :Number of Instances: 506 \n",
            "\n",
            "    :Number of Attributes: 13 numeric/categorical predictive. Median Value (attribute 14) is usually the target.\n",
            "\n",
            "    :Attribute Information (in order):\n",
            "        - CRIM     per capita crime rate by town\n",
            "        - ZN       proportion of residential land zoned for lots over 25,000 sq.ft.\n",
            "        - INDUS    proportion of non-retail business acres per town\n",
            "        - CHAS     Charles River dummy variable (= 1 if tract bounds river; 0 otherwise)\n",
            "        - NOX      nitric oxides concentration (parts per 10 million)\n",
            "        - RM       average number of rooms per dwelling\n",
            "        - AGE      proportion of owner-occupied units built prior to 1940\n",
            "        - DIS      weighted distances to five Boston employment centres\n",
            "        - RAD      index of accessibility to radial highways\n",
            "        - TAX      full-value property-tax rate per $10,000\n",
            "        - PTRATIO  pupil-teacher ratio by town\n",
            "        - B        1000(Bk - 0.63)^2 where Bk is the proportion of blacks by town\n",
            "        - LSTAT    % lower status of the population\n",
            "        - MEDV     Median value of owner-occupied homes in $1000's\n",
            "\n",
            "    :Missing Attribute Values: None\n",
            "\n",
            "    :Creator: Harrison, D. and Rubinfeld, D.L.\n",
            "\n",
            "This is a copy of UCI ML housing dataset.\n",
            "https://archive.ics.uci.edu/ml/machine-learning-databases/housing/\n",
            "\n",
            "\n",
            "This dataset was taken from the StatLib library which is maintained at Carnegie Mellon University.\n",
            "\n",
            "The Boston house-price data of Harrison, D. and Rubinfeld, D.L. 'Hedonic\n",
            "prices and the demand for clean air', J. Environ. Economics & Management,\n",
            "vol.5, 81-102, 1978.   Used in Belsley, Kuh & Welsch, 'Regression diagnostics\n",
            "...', Wiley, 1980.   N.B. Various transformations are used in the table on\n",
            "pages 244-261 of the latter.\n",
            "\n",
            "The Boston house-price data has been used in many machine learning papers that address regression\n",
            "problems.   \n",
            "     \n",
            ".. topic:: References\n",
            "\n",
            "   - Belsley, Kuh & Welsch, 'Regression diagnostics: Identifying Influential Data and Sources of Collinearity', Wiley, 1980. 244-261.\n",
            "   - Quinlan,R. (1993). Combining Instance-Based and Model-Based Learning. In Proceedings on the Tenth International Conference of Machine Learning, 236-243, University of Massachusetts, Amherst. Morgan Kaufmann.\n",
            "\n"
          ],
          "name": "stdout"
        }
      ]
    },
    {
      "cell_type": "markdown",
      "metadata": {
        "id": "diQ3uwM5uuTb"
      },
      "source": [
        "## 1. Análisis exploratorio inicial.\n",
        "\n",
        "Hoy nos centraremos en modelar la relación existente entre las variables **RM** (Número medio de habitaciones) y **MEDV** (Valor medio de la vivienda). Como debe de ser ya costumbre, vamos a primero comenzar entendiendo la naturaleza de nuestros datos, realizando un análisis exploratorio preliminar. Recuerda, aquí hacemos uso de las herramientas estadísticas y matemáticas aprendidas para obtener una mejor imagen de lo que nuestros datos representan. La pregunta aquí es... ¿Qué preguntas quieres responder con estas herramientas?\n",
        "\n",
        "---\n",
        "\n",
        "**Tu tarea:**  Realiza un análisis exploratorio en el que respondas las siguientes pregunas:\n",
        "\n",
        "\n",
        "1.  **¿Existe algún relación entre la variable RM y MEDV?** Demuestra la existencia de dicha relación desde dos vertientes diferentes: grafica un *scatter plot* con cada variable en un eje que te permita visualizar algún patrón identificable. También, utiliza una medida estadística como la correlación entre dos variables (¿Que cómo se hace? Google te lo cuenta) para comprobar cuantitativamente dicha relación. ¿Son coherentes ambos análisis?¿Es coherente con lo que se puede esperar de manera intuitiva?\n",
        "\n",
        "2.   **¿Cúal es el precio medio de las viviendas cuyo número medio de habitaciones oscila entre 5 y 6?** Aquí te puedes apoyar en la función ***np.logical_and()*** si necesitas combinar dos condiciones diferentes.\n",
        "\n",
        "3. **¿Identificas algún fenómeno anómalo en la distribución de los datos?** Realiza un histograma para la variable MEDV. Aquí recomiendo utilizar un valor elevado de *bins*, por encima de 100, para remarcar el efecto de la anomalía. ¿De qué se trata?¿Crees que se trata de mediciones reales o es fruto de un preprocesamiento previo de los datos?\n",
        "\n",
        "**Consejo:** cuando al hacer un *scatter plot* haya una gran acumulación de puntos en una zona de la gráfica que no te permita identificar la densidad de puntos que hay, es una buena idea añadir algo de transparencia al color de dichos puntos. Esto se consigue con el atributo ***alpha*** de la función*** plot()***"
      ]
    },
    {
      "cell_type": "code",
      "metadata": {
        "id": "pooVJc8b6WEE"
      },
      "source": [
        "# COMIENZA TU CÓDIGO AQUÍ #\n",
        "def relation_rm_medv(rm, means):\n",
        "  plt.scatter(rm, means, alpha=0.25)\n",
        "  plt.title(\"RM contra MEDV\")\n",
        "  plt.show()\n",
        "  return np.corrcoef(rm, means)[0, 1]\n",
        "\n",
        "def price_mean(rm, means):\n",
        "  filtered_means = means[np.logical_and(rm > 5, rm < 6)]\n",
        "  return np.mean(filtered_means) * 1000\n",
        "\n",
        "def medv_hist(medv):\n",
        "  plt.hist(medv, bins=500)\n",
        "  plt.show()\n",
        "\n"
      ],
      "execution_count": null,
      "outputs": []
    },
    {
      "cell_type": "code",
      "metadata": {
        "id": "GM9Ll85Detyk",
        "outputId": "fded2f02-29a3-4749-f849-1214c6218363",
        "colab": {
          "base_uri": "https://localhost:8080/",
          "height": 567
        }
      },
      "source": [
        "print(\"La correlación de RM y MEDV es:\", relation_rm_medv(rm, Y))\n",
        "print(\"La media de las viviendas con un número de viviendas entre 5 y 6 es:\", price_mean(rm, Y))\n",
        "medv_hist(Y)"
      ],
      "execution_count": null,
      "outputs": [
        {
          "output_type": "display_data",
          "data": {
            "image/png": "[encoded data removed]",
            "text/plain": [
              "<Figure size 432x288 with 1 Axes>"
            ]
          },
          "metadata": {
            "tags": []
          }
        },
        {
          "output_type": "stream",
          "text": [
            "La correlación de RM y MEDV es: 0.6953599470715393\n",
            "La media de las viviendas con un número de viviendas entre 5 y 6 es: 17551.5923566879\n"
          ],
          "name": "stdout"
        },
        {
          "output_type": "display_data",
          "data": {
            "image/png": "[encoded data removed]",
            "text/plain": [
              "<Figure size 432x288 with 1 Axes>"
            ]
          },
          "metadata": {
            "tags": []
          }
        }
      ]
    },
    {
      "cell_type": "markdown",
      "metadata": {
        "id": "77hvTCml_as6"
      },
      "source": [
        "## 2. Regresión Lineal Simple - Mínimos Cuadrados Ordinarios.\n",
        "\n",
        "Una vez hemos efectuado el análisis exploratorio inicial, vamos a proceder a implementar y entrenar a nuestro modelo. Recuerda que podemos conseguir ajustar a los datos nuestra recta de regresión lineal haciendo uso de aquellos valores de los parámetros obtenidos mediante el método de ***Mínimos Cuadrados Ordinarios***. Este método encuentra que el mínimo de la función del ***Error Cuadrático Medio*** se encuentra en el punto donde su derivada es igual a 0. Esto se obtiene evaluando la siguiente expresión:\n",
        "\n",
        "> > > > >  > > > $W = (X^TX)^{-1}X^TY$\n",
        "\n",
        "Recuerda que para trabajar de forma vectorizada, ampliamos la matriz $X$ con una primera columna de valores asignados a $1$, que servirán para mantener al termino independiente pues... pues eso: independiente.\n",
        "\n",
        "---\n",
        "\n",
        "**Tu tarea:**\n",
        "\n",
        "1.   Ajusta el modelo de Regresión Lineal mediante el método de ***Mínimos Cuadrados Ordinarios***.\n",
        "2.   Una vez hayas calculado los parámetros, visualiza la recta obtenida para comprobar que realmente se ajusta a la nube de puntos.\n",
        "3.   Explica cómo interpretas intuitivamente los valores de cada uno de los parámetros. ¿Qué representa $w_0$?¿Y $w_1$?\n",
        "4.   Utiliza el modelo entrenado para predecir cuál será el valor medio de la vivienda para un número medio de ***9 habitaciones***, y también el número de habitaciones medio que podría tener una vivienda cuyo valor medio es de **45.000\\$**.\n",
        "5.   Utiliza el modelo entrenado para calcular, para cada valor de $X$, cual es el valor predicho por la regresión. Llamaremos al vector generado el vector de salida predicho $Y_P$. Ahora, vamos a evaluar la calidad de las predicciones implementando una función a la que le pases como parámetros el vector de valores de salida reáles $Y$ y el vector de salida predicho $Y_P$, y computa el ***Error Cuadrático Medio***. Recuerda que  el ***ECM*** se calcula como:\n",
        "\n",
        "> > > > >  > > >  $ \\operatorname{ECM}=\\frac{1}{n}\\sum_{i=1}^n(Y_{Pi} - Y_i)^2. $\n",
        "\n",
        "**Hint:** Puedes utilizar la @ como un operador equivalente a la función **np.matmul()**, utilizada para la multiplicación matricial. ej : A = B @ C\n",
        "\n",
        "**Consejo:** Al trabajar con multiplicación de matrices y vectores, comprueba que los vectores tengan bien definidas sus dos dimensiones. Esto se puede ver usando con el atributo *X.shape* de dicho vector. Queremos que sus dimensiones se muestren así **(5, 1)** y no así **(5,)**.\n",
        "Esto se puede producir por ejemplo cuando seleccionamos una única columna de una matriz. En estos casos se puede evitar seleccionando dicha columna así **X[:, 3:4]** en vez de así **X[:, 3]**. Igualmente, en caso de haber perdido una de las dimensiones, las funciones **np.newaxis()** o **reshape()** te pueden ser de ayuda.\n",
        "\n",
        "```\n",
        "ej: Y = Y[:, np.newaxis]\n",
        "```\n",
        "**Info:** En el punto 5 hemos calculado el error del modelo utilizando todos los datos. Más adelante en el curso veremos que esto no es del todo correcto a la hora de evaluar un modelo, pero de momento nos es suficiente.\n"
      ]
    },
    {
      "cell_type": "code",
      "metadata": {
        "id": "uBXHrSYnEW8M",
        "outputId": "48456e7f-e7e0-4d37-bbe8-a12fc3531997",
        "colab": {
          "base_uri": "https://localhost:8080/",
          "height": 337
        }
      },
      "source": [
        "# COMIENZA TU CÓDIGO AQUÍ\n",
        "def lineal_regression(x, means):\n",
        "#   W = (Xt*X)^-1 * Xt*Y\n",
        "  w = np.linalg.inv(x.T @ x) @ x.T @ Y\n",
        "  plt.scatter(rm, means, alpha=0.25)\n",
        "  plt.plot(rm, x @ w, color=\"red\")\n",
        "  plt.show()\n",
        "  return w, x @ w\n",
        "\n",
        "def predict_from_room_number(room_number, w):\n",
        "  return (w[0] + w[1] * room_number) * 1000\n",
        "\n",
        "def predict_from_price(price, w):\n",
        "  return (price/1000 - w[0]) / w[1]\n",
        "\n",
        "def get_mse(yp, y):\n",
        "  return np.mean(np.square(np.subtract(yp, y)))\n",
        "\n",
        "\n",
        "w, yp = lineal_regression(np.c_[np.ones(rm.shape[0]), rm], Y)\n",
        "print(w)\n",
        "print(predict_from_room_number(9, w))\n",
        "print(predict_from_price(45000, w))\n",
        "print(get_mse(yp, Y))\n",
        "\n"
      ],
      "execution_count": null,
      "outputs": [
        {
          "output_type": "display_data",
          "data": {
            "image/png": "[encoded data removed]",
            "text/plain": [
              "<Figure size 432x288 with 1 Axes>"
            ]
          },
          "metadata": {
            "tags": []
          }
        },
        {
          "output_type": "stream",
          "text": [
            "[-34.67062078   9.10210898]\n",
            "47248.36005418345\n",
            "8.752984713890786\n",
            "43.60055177116956\n"
          ],
          "name": "stdout"
        }
      ]
    },
    {
      "cell_type": "markdown",
      "metadata": {
        "id": "97yJHn9aDN3g"
      },
      "source": [
        "## 3. Regresión Lineal Simple - Librería Sklearn.\n",
        "\n",
        "*[Realizar primero el ejercicio número #2]*\n",
        "\n",
        "Hasta este punto hemos aprendido a nivel teórico y práctico cómo funciona el modelo de ***Regresión Lineal Simple*** y cómo se implementa internamente. Esto está muy bien para tener un mejor conocimiento de la materia. Sin embargo, en el día a día tenemos que ser efectivos, y para eso lo habitual será utilizar librerías que ya implementen los modelos que vamos conociendo. Por ejemplo, la librería ***Sklearn*** ya implementa muchos de los modelos de Machine Learning que vamos a aprender durante el curso, como por ejemplo, el modelo de Regresión Lineal.\n",
        "\n",
        "---\n",
        "** Tu tarea: ** Haz uso de la función ***sklearn.linear_model.LinearRegression()*** para entrenar un modelo de Regresión Lineal Simple con las mismas variables que hemos utilizado en el ejercicio anterior. Utiliza la documentación (online o usando el comando \"?\") para estudiar los diferentes parámetros que acepta este modelo.\n",
        "\n",
        "Por ejemplo ¿Para qué sirve el parámetro*** fit_intercept***? Puedes entrenar el modelo con y sin dicho parámetro y visualizarlo en una gráfica.\n",
        "\n",
        "Una vez hayas ajustado el modelo, comprueba que el valor de los parámetros obtenidos (también llamados coeficientes) sea el mismo que has obtenido anteriormente. De la misma forma, utiliza la función ***.predict()***, que ya viene implementada, para comprobar que tus predicciones eran correctas.\n",
        "\n",
        "Finalmente, comprueba que el valor del Error Cuadrático Medio que has obtenido previamente en el ejercicio anterior es igual al que te proporciona la función ya implementada ***sklearn.metrics.mean_squared_error()***.\n",
        "\n",
        "Como puedes ver... ¡Estas librerías ya te vienen con todo el trabajo hecho!\n"
      ]
    },
    {
      "cell_type": "code",
      "metadata": {
        "id": "xwwMXdGzG_kf",
        "outputId": "787f2f6e-19d1-482e-a634-e120636d822b",
        "colab": {
          "base_uri": "https://localhost:8080/",
          "height": 218
        }
      },
      "source": [
        "from sklearn import linear_model\n",
        "from sklearn.metrics import mean_squared_error\n",
        "\n",
        "# COMIENZA TU CÓDIGO AQUÍ #\n",
        "\n",
        "def use_sklearn():\n",
        "  model = linear_model.LinearRegression().fit(rm.reshape(-1, 1), Y)\n",
        "  model_2 = linear_model.LinearRegression(fit_intercept=False).fit(rm.reshape(-1, 1), Y)\n",
        "\n",
        "  yp = model.predict(rm.reshape(-1, 1))\n",
        "  yp2 =  model_2.predict(rm.reshape(-1, 1))\n",
        "\n",
        "  plt.plot(rm, yp, color=\"green\")\n",
        "  plt.plot(rm, yp2, color=\"red\")\n",
        "  plt.scatter(rm, Y, alpha=0.25)\n",
        "  plt.show()\n",
        "\n",
        "  fit_intercept_error = mean_squared_error(Y, yp)\n",
        "\n",
        "  print(\"Modelo con fit_intercept: w1 =\", model.coef_[0], \"w0 =\",\n",
        "        model.intercept_, \"mse =\", fit_intercept_error)\n",
        "  print(\"Modelo sin fit_intercept: w1 =\", model_2.coef_[0], \"w0 =\",\n",
        "        model_2.intercept_, \"mse =\", mean_squared_error(Y, yp2))\n",
        "\n",
        "use_sklearn()\n"
      ],
      "execution_count": 1,
      "outputs": [
        {
          "output_type": "error",
          "ename": "NameError",
          "evalue": "name 'LinearRegression' is not defined",
          "traceback": [
            "\u001b[0;31m---------------------------------------------------------------------------\u001b[0m",
            "\u001b[0;31mNameError\u001b[0m                                 Traceback (most recent call last)",
            "\u001b[0;32m<ipython-input-1-60d00f1e345b>\u001b[0m in \u001b[0;36m<cell line: 0>\u001b[0;34m()\u001b[0m\n\u001b[1;32m      1\u001b[0m \u001b[0;31m# --- 3. REGRESIÓN LINEAL SIMPLE (sklearn) ---\u001b[0m\u001b[0;34m\u001b[0m\u001b[0;34m\u001b[0m\u001b[0m\n\u001b[0;32m----> 2\u001b[0;31m \u001b[0mlin_reg\u001b[0m \u001b[0;34m=\u001b[0m \u001b[0mLinearRegression\u001b[0m\u001b[0;34m(\u001b[0m\u001b[0;34m)\u001b[0m\u001b[0;34m\u001b[0m\u001b[0;34m\u001b[0m\u001b[0m\n\u001b[0m\u001b[1;32m      3\u001b[0m \u001b[0mlin_reg\u001b[0m\u001b[0;34m.\u001b[0m\u001b[0mfit\u001b[0m\u001b[0;34m(\u001b[0m\u001b[0mX\u001b[0m\u001b[0;34m,\u001b[0m \u001b[0my\u001b[0m\u001b[0;34m)\u001b[0m\u001b[0;34m\u001b[0m\u001b[0;34m\u001b[0m\u001b[0m\n\u001b[1;32m      4\u001b[0m \u001b[0mpred_sklearn\u001b[0m \u001b[0;34m=\u001b[0m \u001b[0mlin_reg\u001b[0m\u001b[0;34m.\u001b[0m\u001b[0mpredict\u001b[0m\u001b[0;34m(\u001b[0m\u001b[0mX\u001b[0m\u001b[0;34m)\u001b[0m\u001b[0;34m\u001b[0m\u001b[0;34m\u001b[0m\u001b[0m\n\u001b[1;32m      5\u001b[0m \u001b[0mMSE_sklearn\u001b[0m \u001b[0;34m=\u001b[0m \u001b[0mmean_squared_error\u001b[0m\u001b[0;34m(\u001b[0m\u001b[0my\u001b[0m\u001b[0;34m,\u001b[0m \u001b[0mpred_sklearn\u001b[0m\u001b[0;34m)\u001b[0m\u001b[0;34m\u001b[0m\u001b[0;34m\u001b[0m\u001b[0m\n",
            "\u001b[0;31mNameError\u001b[0m: name 'LinearRegression' is not defined"
          ]
        }
      ]
    },
    {
      "cell_type": "markdown",
      "metadata": {
        "id": "5OU7JKm0QLyW"
      },
      "source": [
        "## 4. Regresión Lineal Múltiple.\n",
        "\n",
        "Por último, como ya hemos visto, podemos generalizar el modelo de Regresión Lineal Simple añadiendo más variables y obteniendo así el model de Regresión Lineal Múltiple. Al añadir más variables al modelo, le estamos dotando de más información que ayude a mejorar las predicciones. Por ejemplo, un modelo de Regresión Lineal Simple podría intentar predecir la altura de una persona en base al tamaño de la mano. Pero si añadieramos otra variable, como por ejemplo, el género, podríamos tener más información para hacer predicciones más fidedignas.\n",
        "\n",
        "La buena noticia es que a nivel de código, no hay gran diferencia entre ambos modelos, que también pueden ser resueltos mediante el método de ***Mínimos Cuadrados Ordinarios*** evaluando la expresión que ya conocemos:\n",
        "\n",
        "> > > > >  > > > $W = (X^TX)^{-1}X^TY$\n",
        "\n",
        "---\n",
        "** Tu tarea: **\n",
        "\n",
        "1. Realiza un modelo de Regresión Lineal Múltiple dónde se utilizen las variables ** RM** (Número medio de habitaciones), **LSTAT ** (Porcentaje de población en el barrio clasificada como clase baja) y **PTRATIO** (Ratio de alumno-profesor del barrio).\n",
        "\n",
        "2. Observa el valor de los coeficientes e interprétalos.\n",
        "\n",
        "3. Utiliza el modelo de Regresión Lineal implementado por la librería **Sklearn** para entrenar este mismo modelo y comprobar que los coeficientes que has obtenidos son correctos.\n",
        "\n",
        "4. Evalua el modelo utilizando la función  ***sklearn.metrics.mean_squared_error()***.  y compara el valor del error obtenido en el ejercicio 2 con el Modelo de Regresión Lineal Simple. ¿El error es mayor o menor? ¿Por qué ocurre esto?\n",
        "\n",
        "\n",
        "**Hint**  Puedes reutilizar mucho del código de los ejercicios anteriores."
      ]
    },
    {
      "cell_type": "code",
      "metadata": {
        "id": "aLCT_xrxTF87",
        "outputId": "5c78ed83-09fe-4ac1-8385-c2837a7573a0",
        "colab": {
          "base_uri": "https://localhost:8080/",
          "height": 85
        }
      },
      "source": [
        "from sklearn import linear_model\n",
        "from sklearn.metrics import mean_squared_error\n",
        "\n",
        "# COMIENZA TU CÓDIGO AQUÍ #\n",
        "\n",
        "def user_weights(x):\n",
        "  return np.linalg.inv(x.T @ x) @ x.T @ Y\n",
        "\n",
        "x = np.c_[np.ones(rm.shape[0]), rm, X[:, [-1, -3]]]\n",
        "w = user_weights(x)\n",
        "print('Coeficientes \"a mano\":', w) # El primero es el valor resultante cuando el resto de variables son 0, el resto es la importancia (peso) de cada variable.\n",
        "\n",
        "# Quitamos la columna de unos\n",
        "\n",
        "x = x[:, 1:]\n",
        "model = linear_model.LinearRegression().fit(x, Y)\n",
        "print(\"Coeficientes sklearn:\", model.intercept_, model.coef_)\n",
        "\n",
        "print(\"Error RLM:\", mean_squared_error(Y, model.predict(x)))\n",
        "print(\"Error RLS:\", get_mse(yp, Y))\n",
        "\n"
      ],
      "execution_count": null,
      "outputs": [
        {
          "output_type": "stream",
          "text": [
            "Coeficientes \"a mano\": [18.56711151  4.51542094 -0.57180569 -0.93072256]\n",
            "Coeficientes sklearn: 18.567111505395246 [ 4.51542094 -0.57180569 -0.93072256]\n",
            "Error RLM: 27.13040575849706\n",
            "Error RLS: 43.60055177116956\n"
          ],
          "name": "stdout"
        }
      ]
    }
  ]
}